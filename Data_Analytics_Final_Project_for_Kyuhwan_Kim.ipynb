{
  "nbformat": 4,
  "nbformat_minor": 0,
  "metadata": {
    "colab": {
      "name": "Data Analytics Final Project for Kyuhwan Kim.ipynb",
      "provenance": [],
      "collapsed_sections": [],
      "include_colab_link": true
    },
    "kernelspec": {
      "name": "python3",
      "display_name": "Python 3"
    }
  },
  "cells": [
    {
      "cell_type": "markdown",
      "metadata": {
        "id": "view-in-github",
        "colab_type": "text"
      },
      "source": [
        "<a href=\"https://colab.research.google.com/github/QOneK/PySpark-Tutorial/blob/master/Data_Analytics_Final_Project_for_Kyuhwan_Kim.ipynb\" target=\"_parent\"><img src=\"https://colab.research.google.com/assets/colab-badge.svg\" alt=\"Open In Colab\"/></a>"
      ]
    },
    {
      "cell_type": "markdown",
      "metadata": {
        "id": "3HZNf9cGzuj-",
        "colab_type": "text"
      },
      "source": [
        "Importing Necessary Packages "
      ]
    },
    {
      "cell_type": "code",
      "metadata": {
        "id": "VboTs0Y8WaDv",
        "colab_type": "code",
        "colab": {}
      },
      "source": [
        "import os\n",
        "import pandas_datareader.data as web\n",
        "from datetime import date"
      ],
      "execution_count": 0,
      "outputs": []
    },
    {
      "cell_type": "markdown",
      "metadata": {
        "id": "RzX1Dxrn2Kgv",
        "colab_type": "text"
      },
      "source": [
        "API key to access IEX"
      ]
    },
    {
      "cell_type": "code",
      "metadata": {
        "id": "bdgC3SEE2Kyr",
        "colab_type": "code",
        "colab": {}
      },
      "source": [
        "os.environ[\"IEX_API_KEY\"] = \"Tpk_1f4e3d7ff01a45bab1e04836cd97e51a\" #used pusblishable API token\n",
        "os.environ['IEX_API_VERSION'] = 'iexcloud-sandbox'\n",
        "os.environ['IEX_SANDBOX'] = 'enable'"
      ],
      "execution_count": 0,
      "outputs": []
    },
    {
      "cell_type": "markdown",
      "metadata": {
        "id": "rEQRBhp_0EEP",
        "colab_type": "text"
      },
      "source": [
        "start and end dates for stock"
      ]
    },
    {
      "cell_type": "code",
      "metadata": {
        "id": "rgHo3KgG0LNi",
        "colab_type": "code",
        "colab": {}
      },
      "source": [
        "#date format is (year, month, day)\n",
        "start = date(2019,1,1)\n",
        "end = date(2019,12,30)"
      ],
      "execution_count": 0,
      "outputs": []
    },
    {
      "cell_type": "markdown",
      "metadata": {
        "id": "Cuq70x3H0joJ",
        "colab_type": "text"
      },
      "source": [
        "stock ticker. Ex. Apple = AAPL"
      ]
    },
    {
      "cell_type": "code",
      "metadata": {
        "id": "ZpVPIFvr0eVV",
        "colab_type": "code",
        "colab": {}
      },
      "source": [
        "ticker = 'AAPL'"
      ],
      "execution_count": 0,
      "outputs": []
    },
    {
      "cell_type": "markdown",
      "metadata": {
        "id": "W_vWPqyn1m2X",
        "colab_type": "text"
      },
      "source": [
        "data source.\n",
        "Documentation for Pandas Data Reader: https://pandas-datareader.readthedocs.io/en/latest/index.html"
      ]
    },
    {
      "cell_type": "code",
      "metadata": {
        "id": "FRH5qRLD10Wg",
        "colab_type": "code",
        "colab": {}
      },
      "source": [
        "data_source = 'iex'"
      ],
      "execution_count": 0,
      "outputs": []
    },
    {
      "cell_type": "markdown",
      "metadata": {
        "id": "uC4vQwh627OZ",
        "colab_type": "text"
      },
      "source": [
        "import stock price \n",
        "DataReader(stocker ticker name, data source, start date, end date)\n",
        "variables were declared in previous lines of code"
      ]
    },
    {
      "cell_type": "code",
      "metadata": {
        "id": "ym-omJ5s3bVx",
        "colab_type": "code",
        "colab": {}
      },
      "source": [
        "stock_prices = web.DataReader(ticker,data_source,start,end) "
      ],
      "execution_count": 0,
      "outputs": []
    },
    {
      "cell_type": "code",
      "metadata": {
        "id": "1vI_GLft5hcX",
        "colab_type": "code",
        "outputId": "3d8ed9b0-169c-48a0-92cb-f458bfc2cefc",
        "colab": {
          "base_uri": "https://localhost:8080/",
          "height": 371
        }
      },
      "source": [
        "print(stock_prices.head())\n",
        "stock_prices.info()"
      ],
      "execution_count": 0,
      "outputs": [
        {
          "output_type": "stream",
          "text": [
            "              open    high     low   close    volume\n",
            "date                                                \n",
            "2019-01-02  156.19  161.19  160.77  163.42  38668741\n",
            "2019-01-03  146.85  147.87  146.00  147.68  93842662\n",
            "2019-01-04  145.24  149.04  150.40  149.79  58702311\n",
            "2019-01-07  152.10  155.10  147.90  148.68  56820898\n",
            "2019-01-08  150.89  155.86  150.77  152.93  41888285\n",
            "<class 'pandas.core.frame.DataFrame'>\n",
            "Index: 251 entries, 2019-01-02 to 2019-12-30\n",
            "Data columns (total 5 columns):\n",
            " #   Column  Non-Null Count  Dtype  \n",
            "---  ------  --------------  -----  \n",
            " 0   open    251 non-null    float64\n",
            " 1   high    251 non-null    float64\n",
            " 2   low     251 non-null    float64\n",
            " 3   close   251 non-null    float64\n",
            " 4   volume  251 non-null    int64  \n",
            "dtypes: float64(4), int64(1)\n",
            "memory usage: 11.8+ KB\n"
          ],
          "name": "stdout"
        }
      ]
    }
  ]
}