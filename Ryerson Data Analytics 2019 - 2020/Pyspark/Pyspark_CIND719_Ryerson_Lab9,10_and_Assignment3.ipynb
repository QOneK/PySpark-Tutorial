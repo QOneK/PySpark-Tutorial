{
  "nbformat": 4,
  "nbformat_minor": 0,
  "metadata": {
    "colab": {
      "name": "Copy of Pyspark_CIND719_Ryerson_Lab9,10_and_Assignment3.ipynb",
      "provenance": [],
      "collapsed_sections": [],
      "toc_visible": true
    },
    "kernelspec": {
      "name": "python3",
      "display_name": "Python 3"
    }
  },
  "cells": [
    {
      "cell_type": "markdown",
      "metadata": {
        "id": "n48_ARvoREDz",
        "colab_type": "text"
      },
      "source": [
        "# Installing Pyspark on Colab\n",
        "\n"
      ]
    },
    {
      "cell_type": "code",
      "metadata": {
        "id": "mTlV4LJ2HSgA",
        "colab_type": "code",
        "outputId": "247af989-65d9-4c19-9d7d-be1a3126e84a",
        "colab": {
          "base_uri": "https://localhost:8080/",
          "height": 242
        }
      },
      "source": [
        "#Install Java and Spark\n",
        "!apt-get install openjdk-8-jdk-headless -qq > /dev/null\n",
        "!wget http://apache.mirror.rafal.ca/spark/spark-2.4.5/spark-2.4.5-bin-hadoop2.7.tgz\n",
        "!tar zxf spark-2.4.5-bin-hadoop2.7.tgz\n",
        "!pip install -q findspark"
      ],
      "execution_count": 0,
      "outputs": [
        {
          "output_type": "stream",
          "text": [
            "--2020-04-24 22:35:39--  http://apache.mirror.rafal.ca/spark/spark-2.4.5/spark-2.4.5-bin-hadoop2.7.tgz\n",
            "Resolving apache.mirror.rafal.ca (apache.mirror.rafal.ca)... 207.210.46.249, 2604:1500:f001:0:216:3eff:fe3f:746b\n",
            "Connecting to apache.mirror.rafal.ca (apache.mirror.rafal.ca)|207.210.46.249|:80... connected.\n",
            "HTTP request sent, awaiting response... 200 OK\n",
            "Length: 232530699 (222M) [application/x-gzip]\n",
            "Saving to: ‘spark-2.4.5-bin-hadoop2.7.tgz’\n",
            "\n",
            "spark-2.4.5-bin-had 100%[===================>] 221.76M  72.6MB/s    in 3.1s    \n",
            "\n",
            "2020-04-24 22:35:42 (72.6 MB/s) - ‘spark-2.4.5-bin-hadoop2.7.tgz’ saved [232530699/232530699]\n",
            "\n"
          ],
          "name": "stdout"
        }
      ]
    },
    {
      "cell_type": "code",
      "metadata": {
        "id": "v1b8k_OVf2QF",
        "colab_type": "code",
        "colab": {}
      },
      "source": [
        "#set the locations where Spark and Java are installed\n",
        "import os\n",
        "os.environ[\"JAVA_HOME\"] = \"/usr/lib/jvm/java-8-openjdk-amd64\"\n",
        "os.environ[\"SPARK_HOME\"] = \"/content/spark-2.4.5-bin-hadoop2.7\""
      ],
      "execution_count": 0,
      "outputs": []
    },
    {
      "cell_type": "code",
      "metadata": {
        "id": "BWGKZU2HIvXy",
        "colab_type": "code",
        "colab": {}
      },
      "source": [
        "#Run a local spark session to test your installation:\n",
        "import sys\n",
        "import findspark\n",
        "findspark.init()\n",
        "from pyspark import SparkConf, SparkContext\n",
        "from pyspark.sql import *\n",
        "from pyspark.sql.types import *\n",
        "from pyspark.sql.functions import *\n",
        "spark = SparkSession.builder.master(\"local[*]\").getOrCreate()\n",
        "sc = SparkContext.getOrCreate()"
      ],
      "execution_count": 0,
      "outputs": []
    },
    {
      "cell_type": "markdown",
      "metadata": {
        "id": "MdMkDuM2Xmy6",
        "colab_type": "text"
      },
      "source": [
        "\n",
        "# Upload Files\n",
        "\n",
        "This portion is to upload files"
      ]
    },
    {
      "cell_type": "code",
      "metadata": {
        "colab_type": "code",
        "id": "22kS-V1T2IhY",
        "outputId": "b64d21c4-af82-46bb-8560-96ebda565187",
        "colab": {
          "resources": {
            "http://localhost:8080/nbextensions/google.colab/files.js": {
              "data": "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",
              "ok": true,
              "headers": [
                [
                  "content-type",
                  "application/javascript"
                ]
              ],
              "status": 200,
              "status_text": "OK"
            }
          },
          "base_uri": "https://localhost:8080/",
          "height": 110
        }
      },
      "source": [
        "#Upload Files     \n",
        "from google.colab import files\n",
        "files.upload()"
      ],
      "execution_count": 0,
      "outputs": [
        {
          "output_type": "display_data",
          "data": {
            "text/html": [
              "\n",
              "     <input type=\"file\" id=\"files-13b03ad7-8b04-40d9-98a1-04c9d57a912d\" name=\"files[]\" multiple disabled />\n",
              "     <output id=\"result-13b03ad7-8b04-40d9-98a1-04c9d57a912d\">\n",
              "      Upload widget is only available when the cell has been executed in the\n",
              "      current browser session. Please rerun this cell to enable.\n",
              "      </output>\n",
              "      <script src=\"/nbextensions/google.colab/files.js\"></script> "
            ],
            "text/plain": [
              "<IPython.core.display.HTML object>"
            ]
          },
          "metadata": {
            "tags": []
          }
        },
        {
          "output_type": "stream",
          "text": [
            "Saving station_data1.csv to station_data1.csv\n",
            "Saving trip_data1.csv to trip_data1.csv\n"
          ],
          "name": "stdout"
        }
      ]
    },
    {
      "cell_type": "markdown",
      "metadata": {
        "id": "7VTHtDmHmDTX",
        "colab_type": "text"
      },
      "source": [
        "# Then take the files and convert to variables (These will be dataframes)\n",
        "Then to Tables\n"
      ]
    },
    {
      "cell_type": "code",
      "metadata": {
        "id": "5FkEi-NGUn6r",
        "colab_type": "code",
        "outputId": "d5fbd5ba-a54d-4245-92a5-da6da9259329",
        "colab": {
          "base_uri": "https://localhost:8080/",
          "height": 241
        }
      },
      "source": [
        "df = spark.read.csv('2015-12-12.csv', header =True)  \n",
        "\n",
        "#type(df)\n",
        "\n",
        "df.show(5) #shows 5 rows\n",
        "\n",
        "print(spark.catalog.listTables()) #lists out tables"
      ],
      "execution_count": 0,
      "outputs": [
        {
          "output_type": "stream",
          "text": [
            "+----------+--------+-------+---------+------+-------+---------+-------+-------+-----+\n",
            "|      date|    time|   size|r_version|r_arch|   r_os|  package|version|country|ip_id|\n",
            "+----------+--------+-------+---------+------+-------+---------+-------+-------+-----+\n",
            "|2015-12-12|13:42:10| 257886|    3.2.2|  i386|mingw32| HistData|  0.7-6|     CZ|    1|\n",
            "|2015-12-12|13:24:37|1236751|    3.2.2|x86_64|mingw32|  RJSONIO|  1.3-0|     DE|    2|\n",
            "|2015-12-12|13:42:35|2077876|    3.2.2|  i386|mingw32|   UsingR|  2.0-5|     CZ|    1|\n",
            "|2015-12-12|13:42:01| 266724|    3.2.2|  i386|mingw32|gridExtra|  2.0.0|     CZ|    1|\n",
            "|2015-12-12|13:00:21|3687766|       NA|    NA|     NA|     lme4| 1.1-10|     DE|    3|\n",
            "+----------+--------+-------+---------+------+-------+---------+-------+-------+-----+\n",
            "only showing top 5 rows\n",
            "\n",
            "[]\n"
          ],
          "name": "stdout"
        }
      ]
    },
    {
      "cell_type": "markdown",
      "metadata": {
        "id": "8dSXKoroma5Z",
        "colab_type": "text"
      },
      "source": [
        "Take the dataframes and convert to tables\n",
        "https://opensource.com/article/19/3/apache-spark-and-dataframes-tutorial \"Build temporary Table\""
      ]
    },
    {
      "cell_type": "code",
      "metadata": {
        "id": "O2GCWx-wmuO4",
        "colab_type": "code",
        "outputId": "29d9c254-e739-4f9c-c15d-559c95bffc30",
        "colab": {
          "base_uri": "https://localhost:8080/",
          "height": 520
        }
      },
      "source": [
        "#help(df.registerTempTable)\n",
        "\n",
        "\n",
        "df.registerTempTable(\"program\") #takes the df variable and convert to connections table\n",
        "print(spark.catalog.listTables()) #lists out tables\n",
        "\n",
        "# Get the first 10 rows of flights\n",
        "sampletable = spark.sql(\"\"\"\n",
        "select r_version, count(*) as freq \n",
        "from program\n",
        "group by r_version\n",
        "\"\"\")\n",
        "\n",
        "# Show the results\n",
        "sampletable.show()"
      ],
      "execution_count": 0,
      "outputs": [
        {
          "output_type": "stream",
          "text": [
            "[Table(name='program', database=None, description=None, tableType='TEMPORARY', isTemporary=True)]\n",
            "+---------+------+\n",
            "|r_version|  freq|\n",
            "+---------+------+\n",
            "|   2.15.3|   168|\n",
            "|   2.11.1|    99|\n",
            "|   2.15.1|   130|\n",
            "|    3.2.2|114576|\n",
            "|    3.0.3|   522|\n",
            "|   2.14.0|     6|\n",
            "|   2.13.2|     1|\n",
            "|       NA| 93734|\n",
            "|   2.15.0|   235|\n",
            "|    3.0.1|   265|\n",
            "|    3.2.1| 10001|\n",
            "|    3.1.1|  9572|\n",
            "|    3.0.0|   102|\n",
            "|    3.2.0|  7697|\n",
            "|   2.15.2|    63|\n",
            "|    3.1.2| 10613|\n",
            "|    3.3.0|  2604|\n",
            "|   2.14.1|    15|\n",
            "|    3.2.3|159577|\n",
            "|   2.12.0|     4|\n",
            "+---------+------+\n",
            "only showing top 20 rows\n",
            "\n"
          ],
          "name": "stdout"
        }
      ]
    },
    {
      "cell_type": "markdown",
      "metadata": {
        "id": "r_H-q-3OyLiM",
        "colab_type": "text"
      },
      "source": [
        "# Lab 9"
      ]
    },
    {
      "cell_type": "markdown",
      "metadata": {
        "id": "US5Kp09s-tdr",
        "colab_type": "text"
      },
      "source": [
        "**Upload Files**"
      ]
    },
    {
      "cell_type": "code",
      "metadata": {
        "id": "tgZYPt8zyVQc",
        "colab_type": "code",
        "colab": {}
      },
      "source": [
        "#Upload Files      (\"2015-12-12.csv\")\n",
        "from google.colab import files\n",
        "files.upload()"
      ],
      "execution_count": 0,
      "outputs": []
    },
    {
      "cell_type": "markdown",
      "metadata": {
        "id": "qr-TRR1R-z5p",
        "colab_type": "text"
      },
      "source": [
        "**Load the Data** (and do simple count of # of lines) "
      ]
    },
    {
      "cell_type": "code",
      "metadata": {
        "id": "XBm9FiRN4Y4X",
        "colab_type": "code",
        "outputId": "a2cc652a-b191-456a-e3a7-7434a2fbb771",
        "colab": {
          "base_uri": "https://localhost:8080/",
          "height": 36
        }
      },
      "source": [
        "#loading the data\n",
        "raw_content = sc.textFile(\"2015-12-12.csv\") \n",
        "#can also do compressed files and wildcards too.\n",
        "\n",
        "raw_content.count() #counting number of lines"
      ],
      "execution_count": 0,
      "outputs": [
        {
          "output_type": "execute_result",
          "data": {
            "text/plain": [
              "421970"
            ]
          },
          "metadata": {
            "tags": []
          },
          "execution_count": 8
        }
      ]
    },
    {
      "cell_type": "markdown",
      "metadata": {
        "id": "vhFgaqTI_BWF",
        "colab_type": "text"
      },
      "source": [
        "**Use .take to retrieve a set # of lines**"
      ]
    },
    {
      "cell_type": "code",
      "metadata": {
        "id": "42nKKhvB4xXQ",
        "colab_type": "code",
        "outputId": "8a124769-113f-4dbb-fabb-9facf15e7ebe",
        "colab": {
          "base_uri": "https://localhost:8080/",
          "height": 110
        }
      },
      "source": [
        "#return first n rows \n",
        "raw_content.take (5)"
      ],
      "execution_count": 0,
      "outputs": [
        {
          "output_type": "execute_result",
          "data": {
            "text/plain": [
              "['\"date\",\"time\",\"size\",\"r_version\",\"r_arch\",\"r_os\",\"package\",\"version\",\"country\",\"ip_id\"',\n",
              " '\"2015-12-12\",\"13:42:10\",257886,\"3.2.2\",\"i386\",\"mingw32\",\"HistData\",\"0.7-6\",\"CZ\",1',\n",
              " '\"2015-12-12\",\"13:24:37\",1236751,\"3.2.2\",\"x86_64\",\"mingw32\",\"RJSONIO\",\"1.3-0\",\"DE\",2',\n",
              " '\"2015-12-12\",\"13:42:35\",2077876,\"3.2.2\",\"i386\",\"mingw32\",\"UsingR\",\"2.0-5\",\"CZ\",1',\n",
              " '\"2015-12-12\",\"13:42:01\",266724,\"3.2.2\",\"i386\",\"mingw32\",\"gridExtra\",\"2.0.0\",\"CZ\",1']"
            ]
          },
          "metadata": {
            "tags": []
          },
          "execution_count": 10
        }
      ]
    },
    {
      "cell_type": "markdown",
      "metadata": {
        "id": "emZZDPEX_IBx",
        "colab_type": "text"
      },
      "source": [
        "**.takeSample** [takes random sample; has 3 conditions] \n",
        "\n",
        "(is there replacement?, how many lines?, random seed #)![alt text](https://)"
      ]
    },
    {
      "cell_type": "code",
      "metadata": {
        "id": "LjGpBVUk5VeN",
        "colab_type": "code",
        "outputId": "da580e8b-8a38-4cc9-a20c-24968f7963d4",
        "colab": {
          "base_uri": "https://localhost:8080/",
          "height": 110
        }
      },
      "source": [
        "#return random samples [if replacement, # of samples, seed #]\n",
        "raw_content.takeSample(True, 5, 3)"
      ],
      "execution_count": 0,
      "outputs": [
        {
          "output_type": "execute_result",
          "data": {
            "text/plain": [
              "['\"2015-12-12\",\"05:59:49\",511365,\"3.2.3\",\"i386\",\"mingw32\",\"ks\",\"1.10.0\",\"US\",10364',\n",
              " '\"2015-12-12\",\"05:10:24\",287843,\"3.2.2\",\"x86_64\",\"mingw32\",\"xtable\",\"1.8-0\",\"US\",5665',\n",
              " '\"2015-12-12\",\"13:06:32\",494138,\"3.2.3\",\"x86_64\",\"linux-gnu\",\"rjson\",\"0.2.15\",\"KR\",655',\n",
              " '\"2015-12-12\",\"23:29:36\",1350975,\"3.2.3\",\"x86_64\",\"mingw32\",\"randtoolbox\",\"1.17\",\"US\",6509',\n",
              " '\"2015-12-12\",\"13:13:10\",45187,\"3.2.3\",\"x86_64\",\"linux-gnu\",\"spatial\",\"7.3-11\",\"GB\",548']"
            ]
          },
          "metadata": {
            "tags": []
          },
          "execution_count": 11
        }
      ]
    },
    {
      "cell_type": "markdown",
      "metadata": {
        "id": "q37_oqgT5ysU",
        "colab_type": "text"
      },
      "source": [
        "**Transformation (map & flatMap)**\n",
        "\n",
        "Each row of the data is a character string. More convenient to have an **array** instead. We use `map` to transform them \n",
        "\n",
        "\n",
        "\n"
      ]
    },
    {
      "cell_type": "code",
      "metadata": {
        "id": "bQrhemU26TSY",
        "colab_type": "code",
        "outputId": "40b6d8ba-491e-4a45-948d-9409bdceda8e",
        "colab": {
          "base_uri": "https://localhost:8080/",
          "height": 576
        }
      },
      "source": [
        "#instead of one BIG array, seperate into row array\n",
        "content = raw_content.map(lambda x: x.split(',')) #comma seperated file\n",
        "content.take(3)"
      ],
      "execution_count": 0,
      "outputs": [
        {
          "output_type": "execute_result",
          "data": {
            "text/plain": [
              "[['\"date\"',\n",
              "  '\"time\"',\n",
              "  '\"size\"',\n",
              "  '\"r_version\"',\n",
              "  '\"r_arch\"',\n",
              "  '\"r_os\"',\n",
              "  '\"package\"',\n",
              "  '\"version\"',\n",
              "  '\"country\"',\n",
              "  '\"ip_id\"'],\n",
              " ['\"2015-12-12\"',\n",
              "  '\"13:42:10\"',\n",
              "  '257886',\n",
              "  '\"3.2.2\"',\n",
              "  '\"i386\"',\n",
              "  '\"mingw32\"',\n",
              "  '\"HistData\"',\n",
              "  '\"0.7-6\"',\n",
              "  '\"CZ\"',\n",
              "  '1'],\n",
              " ['\"2015-12-12\"',\n",
              "  '\"13:24:37\"',\n",
              "  '1236751',\n",
              "  '\"3.2.2\"',\n",
              "  '\"x86_64\"',\n",
              "  '\"mingw32\"',\n",
              "  '\"RJSONIO\"',\n",
              "  '\"1.3-0\"',\n",
              "  '\"DE\"',\n",
              "  '2']]"
            ]
          },
          "metadata": {
            "tags": []
          },
          "execution_count": 12
        }
      ]
    },
    {
      "cell_type": "markdown",
      "metadata": {
        "id": "3H2tHqgF7DWa",
        "colab_type": "text"
      },
      "source": [
        "**Sample of map (removing double quotation marks)**"
      ]
    },
    {
      "cell_type": "code",
      "metadata": {
        "id": "MQHTEK_57SXn",
        "colab_type": "code",
        "outputId": "ac44d631-b7d2-4648-918c-ced276c4291f",
        "colab": {
          "base_uri": "https://localhost:8080/",
          "height": 576
        }
      },
      "source": [
        "def clean(x): #making a function \n",
        "  return ([xx.replace('\"','') for xx in x])\n",
        "\n",
        "content = content.map(clean) \n",
        "content.take(3)\n",
        "\n",
        "#Same result\n",
        "#raw_content.map(lambda x: x.split(',')).map(clean)"
      ],
      "execution_count": 0,
      "outputs": [
        {
          "output_type": "execute_result",
          "data": {
            "text/plain": [
              "[['date',\n",
              "  'time',\n",
              "  'size',\n",
              "  'r_version',\n",
              "  'r_arch',\n",
              "  'r_os',\n",
              "  'package',\n",
              "  'version',\n",
              "  'country',\n",
              "  'ip_id'],\n",
              " ['2015-12-12',\n",
              "  '13:42:10',\n",
              "  '257886',\n",
              "  '3.2.2',\n",
              "  'i386',\n",
              "  'mingw32',\n",
              "  'HistData',\n",
              "  '0.7-6',\n",
              "  'CZ',\n",
              "  '1'],\n",
              " ['2015-12-12',\n",
              "  '13:24:37',\n",
              "  '1236751',\n",
              "  '3.2.2',\n",
              "  'x86_64',\n",
              "  'mingw32',\n",
              "  'RJSONIO',\n",
              "  '1.3-0',\n",
              "  'DE',\n",
              "  '2']]"
            ]
          },
          "metadata": {
            "tags": []
          },
          "execution_count": 13
        }
      ]
    },
    {
      "cell_type": "markdown",
      "metadata": {
        "id": "qn9W6UIQ85eB",
        "colab_type": "text"
      },
      "source": [
        "**Flatmap vs Map?**\n"
      ]
    },
    {
      "cell_type": "markdown",
      "metadata": {
        "id": "gxNvdpZt96UI",
        "colab_type": "text"
      },
      "source": [
        "\n",
        "\n",
        "*   **MAP**\n",
        "return sequence of same length as the original data\n",
        "*   **Flatmap**\n",
        "return sequence each element length of all subsequence (entire list)\n",
        "\n"
      ]
    },
    {
      "cell_type": "code",
      "metadata": {
        "id": "YslU0xxf9Na3",
        "colab_type": "code",
        "outputId": "b0042089-d8c8-4213-b631-fb876093ad9e",
        "colab": {
          "base_uri": "https://localhost:8080/",
          "height": 36
        }
      },
      "source": [
        "text = [\"a b c\", \"d e\", \"f g h\"]\n",
        "sc.parallelize(text).map(lambda x:x.split(\" \")).collect()"
      ],
      "execution_count": 0,
      "outputs": [
        {
          "output_type": "execute_result",
          "data": {
            "text/plain": [
              "[['a', 'b', 'c'], ['d', 'e'], ['f', 'g', 'h']]"
            ]
          },
          "metadata": {
            "tags": []
          },
          "execution_count": 14
        }
      ]
    },
    {
      "cell_type": "code",
      "metadata": {
        "id": "e-MO0ynY9bkh",
        "colab_type": "code",
        "outputId": "46af3b41-6be3-40a2-d4cd-8416ac18f3f3",
        "colab": {
          "base_uri": "https://localhost:8080/",
          "height": 36
        }
      },
      "source": [
        "sc.parallelize(text).flatMap(lambda x:x.split(\" \")).collect()"
      ],
      "execution_count": 0,
      "outputs": [
        {
          "output_type": "execute_result",
          "data": {
            "text/plain": [
              "['a', 'b', 'c', 'd', 'e', 'f', 'g', 'h']"
            ]
          },
          "metadata": {
            "tags": []
          },
          "execution_count": 15
        }
      ]
    },
    {
      "cell_type": "markdown",
      "metadata": {
        "id": "cMWEgwLf_jAG",
        "colab_type": "text"
      },
      "source": [
        "**Reduce and Counting**\n",
        "\n",
        "\n",
        "*   How many downloaded records each package has\n",
        "*   ex. sp downloaded 1020 times\n",
        "\n"
      ]
    },
    {
      "cell_type": "code",
      "metadata": {
        "id": "SYfJ6LirBm3l",
        "colab_type": "code",
        "outputId": "45769efe-f977-4d9f-89b5-6f9a5d4844be",
        "colab": {
          "base_uri": "https://localhost:8080/",
          "height": 110
        }
      },
      "source": [
        "#reduceByKey\n",
        "package_count = content.map(lambda x: (x[6], 1)).reduceByKey(lambda a,b: a+b)\n",
        "package_count.count()\n",
        "package_count.take(5)\n"
      ],
      "execution_count": 0,
      "outputs": [
        {
          "output_type": "execute_result",
          "data": {
            "text/plain": [
              "[('HistData', 159),\n",
              " ('UsingR', 151),\n",
              " ('lme4', 1560),\n",
              " ('testthat', 1178),\n",
              " ('maps', 1586)]"
            ]
          },
          "metadata": {
            "tags": []
          },
          "execution_count": 17
        }
      ]
    },
    {
      "cell_type": "code",
      "metadata": {
        "id": "T9V1NyyyI1w3",
        "colab_type": "code",
        "outputId": "fcc78da3-4374-4ed4-d252-d30fddcbdb24",
        "colab": {
          "base_uri": "https://localhost:8080/",
          "height": 36
        }
      },
      "source": [
        "#countByKey\n",
        "package_count_2 = content.map(lambda x: (x[6], 1)).countByKey()\n",
        "package_count_2['maps']\n",
        "#package_count_2['\"maps\"']"
      ],
      "execution_count": 0,
      "outputs": [
        {
          "output_type": "execute_result",
          "data": {
            "text/plain": [
              "0"
            ]
          },
          "metadata": {
            "tags": []
          },
          "execution_count": 21
        }
      ]
    },
    {
      "cell_type": "markdown",
      "metadata": {
        "id": "SL0jjNdnJKK4",
        "colab_type": "text"
      },
      "source": [
        "**Sorting**\n",
        "After count by reduce, we can find the `rankings`. We use `sortByKey` method"
      ]
    },
    {
      "cell_type": "code",
      "metadata": {
        "id": "-axQuCOFJpO4",
        "colab_type": "code",
        "outputId": "c7bf9003-bae1-4e5c-fdcd-8b57e70dd04c",
        "colab": {
          "base_uri": "https://localhost:8080/",
          "height": 203
        }
      },
      "source": [
        "#sortByKey ('0') = descending\n",
        "#sortByKey ('1') = ascending\n",
        "\n",
        "# Sort DNSCNNDIN/ and get the frst 10\n",
        "package_count.map(lambda x: (x[1], x[0])).sortByKey(0).take(10)"
      ],
      "execution_count": 0,
      "outputs": [
        {
          "output_type": "execute_result",
          "data": {
            "text/plain": [
              "[(4783, 'Rcpp'),\n",
              " (3913, 'ggplot2'),\n",
              " (3748, 'stringi'),\n",
              " (3449, 'stringr'),\n",
              " (3436, 'plyr'),\n",
              " (3265, 'magrittr'),\n",
              " (3223, 'digest'),\n",
              " (3205, 'reshape2'),\n",
              " (3046, 'RColorBrewer'),\n",
              " (3007, 'scales')]"
            ]
          },
          "metadata": {
            "tags": []
          },
          "execution_count": 23
        }
      ]
    },
    {
      "cell_type": "code",
      "metadata": {
        "id": "6FqsXt0uJ3G5",
        "colab_type": "code",
        "outputId": "ebd0d6e5-0d98-4d27-e0c7-da1c0a89542f",
        "colab": {
          "base_uri": "https://localhost:8080/",
          "height": 202
        }
      },
      "source": [
        "# Sort ASCNNDIN/ and get the frst 10\n",
        "package_count.map(lambda x: (x[1], x[0])).sortByKey(1).take(10)"
      ],
      "execution_count": 0,
      "outputs": [
        {
          "output_type": "execute_result",
          "data": {
            "text/plain": [
              "[(1, 'multic'),\n",
              " (1, 'RBerkeley'),\n",
              " (1, 'vimcom'),\n",
              " (1, 'waldwolf'),\n",
              " (1, 'bstats'),\n",
              " (1, 'parspatstat'),\n",
              " (1, 'WaveCGH'),\n",
              " (1, 'mixnet'),\n",
              " (1, 'postgwas'),\n",
              " (1, 'rolasized')]"
            ]
          },
          "metadata": {
            "tags": []
          },
          "execution_count": 35
        }
      ]
    },
    {
      "cell_type": "markdown",
      "metadata": {
        "id": "oSuwO0j-KKZ5",
        "colab_type": "text"
      },
      "source": [
        "**Filter** Specific search\n",
        "x is array, attribute #\n",
        "\n",
        "ex. x[6] = package column"
      ]
    },
    {
      "cell_type": "code",
      "metadata": {
        "id": "5UNiyKERKXbV",
        "colab_type": "code",
        "outputId": "6e588b18-09a9-42b6-c773-ecde6b3df4a0",
        "colab": {
          "base_uri": "https://localhost:8080/",
          "height": 36
        }
      },
      "source": [
        "content.filter(lambda x: x[6] == 'Rtts' and x[8] == 'CN').count()\n"
      ],
      "execution_count": 0,
      "outputs": [
        {
          "output_type": "execute_result",
          "data": {
            "text/plain": [
              "1"
            ]
          },
          "metadata": {
            "tags": []
          },
          "execution_count": 25
        }
      ]
    },
    {
      "cell_type": "code",
      "metadata": {
        "id": "E3h7qZykLAX-",
        "colab_type": "code",
        "outputId": "70859651-ebbd-4f78-ebba-352cf5422275",
        "colab": {
          "base_uri": "https://localhost:8080/",
          "height": 202
        }
      },
      "source": [
        "content.filter(lambda x: x[6] == 'Rtts' and x[8] == 'CN').take(1)"
      ],
      "execution_count": 0,
      "outputs": [
        {
          "output_type": "execute_result",
          "data": {
            "text/plain": [
              "[['2015-12-12',\n",
              "  '20:15:24',\n",
              "  '23820',\n",
              "  '3.2.2',\n",
              "  'x86_64',\n",
              "  'mingw32',\n",
              "  'Rtts',\n",
              "  '0.3.3',\n",
              "  'CN',\n",
              "  '41']]"
            ]
          },
          "metadata": {
            "tags": []
          },
          "execution_count": 37
        }
      ]
    },
    {
      "cell_type": "markdown",
      "metadata": {
        "id": "V1vs-QAuLp3W",
        "colab_type": "text"
      },
      "source": [
        "**Set Operation**\n",
        "each line of our data is an array instead of a string: intersecton and\n",
        "distnct methods can't work properly. This is why we used raw_content (string) instead of content here as example."
      ]
    },
    {
      "cell_type": "code",
      "metadata": {
        "id": "Ew7UFX5TLta1",
        "colab_type": "code",
        "outputId": "be685aaf-9084-4eee-9db6-d3e9000c64a2",
        "colab": {
          "base_uri": "https://localhost:8080/",
          "height": 36
        }
      },
      "source": [
        "raw_content.count()"
      ],
      "execution_count": 0,
      "outputs": [
        {
          "output_type": "execute_result",
          "data": {
            "text/plain": [
              "421970"
            ]
          },
          "metadata": {
            "tags": []
          },
          "execution_count": 38
        }
      ]
    },
    {
      "cell_type": "code",
      "metadata": {
        "id": "Brg-BI9XLvLY",
        "colab_type": "code",
        "outputId": "c85b2363-3e22-427f-e8f7-d799eaaac66e",
        "colab": {
          "base_uri": "https://localhost:8080/",
          "height": 36
        }
      },
      "source": [
        "# one set's union with itself equals to its \"double\"\n",
        "raw_content.union(raw_content).count()"
      ],
      "execution_count": 0,
      "outputs": [
        {
          "output_type": "execute_result",
          "data": {
            "text/plain": [
              "843940"
            ]
          },
          "metadata": {
            "tags": []
          },
          "execution_count": 39
        }
      ]
    },
    {
      "cell_type": "code",
      "metadata": {
        "id": "Mqh8roJML1k9",
        "colab_type": "code",
        "outputId": "e5337c1e-6682-4de9-8d04-c7a5d2b2bc3b",
        "colab": {
          "base_uri": "https://localhost:8080/",
          "height": 36
        }
      },
      "source": [
        "# one set's intersecton with itself equals to its disctnct value set\n",
        "raw_content.intersection(raw_content).count()"
      ],
      "execution_count": 0,
      "outputs": [
        {
          "output_type": "execute_result",
          "data": {
            "text/plain": [
              "421553"
            ]
          },
          "metadata": {
            "tags": []
          },
          "execution_count": 40
        }
      ]
    },
    {
      "cell_type": "code",
      "metadata": {
        "id": "SRFxdwbbL_5z",
        "colab_type": "code",
        "outputId": "48bd504c-c549-4b52-aeb0-66c36823385e",
        "colab": {
          "base_uri": "https://localhost:8080/",
          "height": 36
        }
      },
      "source": [
        "raw_content.distinct().count()"
      ],
      "execution_count": 0,
      "outputs": [
        {
          "output_type": "execute_result",
          "data": {
            "text/plain": [
              "421553"
            ]
          },
          "metadata": {
            "tags": []
          },
          "execution_count": 41
        }
      ]
    },
    {
      "cell_type": "markdown",
      "metadata": {
        "id": "qK4WesQpudyA",
        "colab_type": "text"
      },
      "source": [
        "**Join**\n",
        " lefOuterJoin, rightOuterJoin, and fullOuterJoin\n",
        " Cartesian also available"
      ]
    },
    {
      "cell_type": "code",
      "metadata": {
        "id": "6akyqXT4utDf",
        "colab_type": "code",
        "colab": {}
      },
      "source": [
        "# generate a new RDD in which the 'country' variable is KNY\n",
        "content_modified=content.map(lambda x:(x[8], x))"
      ],
      "execution_count": 0,
      "outputs": []
    },
    {
      "cell_type": "code",
      "metadata": {
        "id": "sk9gkE-C4-5F",
        "colab_type": "code",
        "colab": {}
      },
      "source": [
        "# create a mapping table of the abbreviatons of four countries and their full names.\n",
        "mapping=[('DE', 'Germany'), ('US', 'United States'), ('CN', 'China'),\n",
        "('IN',\"India\")]"
      ],
      "execution_count": 0,
      "outputs": []
    },
    {
      "cell_type": "code",
      "metadata": {
        "id": "3DHy5NuD5An6",
        "colab_type": "code",
        "colab": {}
      },
      "source": [
        "mapping=sc.parallelize(mapping)"
      ],
      "execution_count": 0,
      "outputs": []
    },
    {
      "cell_type": "code",
      "metadata": {
        "id": "O4Uk8PC65Jod",
        "colab_type": "code",
        "outputId": "f9fbc91f-31b9-4cce-ebe5-e4f72f0114d3",
        "colab": {
          "base_uri": "https://localhost:8080/",
          "height": 911
        }
      },
      "source": [
        "#  JOIN \n",
        "#Check the last column of each array\n",
        "content_modified.join(mapping).takeSample(False, 4)"
      ],
      "execution_count": 0,
      "outputs": [
        {
          "output_type": "execute_result",
          "data": {
            "text/plain": [
              "[('US',\n",
              "  (['2015-12-12',\n",
              "    '17:44:44',\n",
              "    '64515',\n",
              "    '3.2.3',\n",
              "    'x86_64',\n",
              "    'mingw32',\n",
              "    'gtable',\n",
              "    '0.1.2',\n",
              "    'US',\n",
              "    '3675'],\n",
              "   'United States')),\n",
              " ('CN',\n",
              "  (['2015-12-12',\n",
              "    '20:22:27',\n",
              "    '511',\n",
              "    'NA',\n",
              "    'NA',\n",
              "    'NA',\n",
              "    'sn',\n",
              "    '0.4-16',\n",
              "    'CN',\n",
              "    '4469'],\n",
              "   'China')),\n",
              " ('CN',\n",
              "  (['2015-12-12',\n",
              "    '20:51:15',\n",
              "    '512',\n",
              "    'NA',\n",
              "    'NA',\n",
              "    'NA',\n",
              "    'hints',\n",
              "    '1.0.1-1',\n",
              "    'CN',\n",
              "    '14149'],\n",
              "   'China')),\n",
              " ('CN',\n",
              "  (['2015-12-12',\n",
              "    '21:41:31',\n",
              "    '513',\n",
              "    'NA',\n",
              "    'NA',\n",
              "    'NA',\n",
              "    'svUnit',\n",
              "    '0.7-11',\n",
              "    'CN',\n",
              "    '4890'],\n",
              "   'China'))]"
            ]
          },
          "metadata": {
            "tags": []
          },
          "execution_count": 29
        }
      ]
    },
    {
      "cell_type": "code",
      "metadata": {
        "id": "-7fYKZum5cCq",
        "colab_type": "code",
        "outputId": "689924c6-3542-4ae3-a6da-3dad0b3844be",
        "colab": {
          "base_uri": "https://localhost:8080/",
          "height": 688
        }
      },
      "source": [
        "#Left Outer Join\n",
        "\n",
        "#check column of each array\n",
        "\n",
        "#In the mapping table, we provided the mappings for only four countries, so we fnd some 'None' values in the\n",
        "#returned result below.\n",
        "content_modified.leftOuterJoin(mapping).takeSample(False, 3)"
      ],
      "execution_count": 0,
      "outputs": [
        {
          "output_type": "execute_result",
          "data": {
            "text/plain": [
              "[('US',\n",
              "  (['2015-12-12',\n",
              "    '05:11:12',\n",
              "    '10867',\n",
              "    '3.1.3',\n",
              "    'x86_64',\n",
              "    'mingw32',\n",
              "    'rstudioapi',\n",
              "    '0.4.0',\n",
              "    'US',\n",
              "    '5768'],\n",
              "   'United States')),\n",
              " ('MY',\n",
              "  (['2015-12-12',\n",
              "    '14:31:38',\n",
              "    '3687766',\n",
              "    '3.2.1',\n",
              "    'x86_64',\n",
              "    'linux-gnu',\n",
              "    'lme4',\n",
              "    '1.1-10',\n",
              "    'MY',\n",
              "    '8466'],\n",
              "   None)),\n",
              " ('US',\n",
              "  (['2015-12-12',\n",
              "    '16:20:27',\n",
              "    '1185269',\n",
              "    '3.2.3',\n",
              "    'i386',\n",
              "    'mingw32',\n",
              "    'rmarkdown',\n",
              "    '0.8.1',\n",
              "    'US',\n",
              "    '3170'],\n",
              "   'United States'))]"
            ]
          },
          "metadata": {
            "tags": []
          },
          "execution_count": 30
        }
      ]
    },
    {
      "cell_type": "markdown",
      "metadata": {
        "id": "8cnKLAAxzm0f",
        "colab_type": "text"
      },
      "source": [
        "#Lab 10"
      ]
    },
    {
      "cell_type": "code",
      "metadata": {
        "id": "D0L7m5aFzqrx",
        "colab_type": "code",
        "colab": {}
      },
      "source": [
        "#Upload Files      \n",
        "from google.colab import files\n",
        "files.upload()"
      ],
      "execution_count": 0,
      "outputs": []
    },
    {
      "cell_type": "markdown",
      "metadata": {
        "id": "iwEfdnhe2bjN",
        "colab_type": "text"
      },
      "source": [
        "**`BASIC NUMBER TRANSFORMATIONS`**\n",
        "\n",
        "---\n",
        "\n"
      ]
    },
    {
      "cell_type": "code",
      "metadata": {
        "id": "fxg9g9w0wfAV",
        "colab_type": "code",
        "outputId": "67c03e86-c01d-4701-ea9f-ab2f0ebbde54",
        "colab": {
          "base_uri": "https://localhost:8080/",
          "height": 36
        }
      },
      "source": [
        "nums = sc.parallelize([1,2,3])\n",
        "nums.take(3)"
      ],
      "execution_count": 0,
      "outputs": [
        {
          "output_type": "execute_result",
          "data": {
            "text/plain": [
              "[1, 2, 3]"
            ]
          },
          "metadata": {
            "tags": []
          },
          "execution_count": 33
        }
      ]
    },
    {
      "cell_type": "markdown",
      "metadata": {
        "id": "UR_CKtuUzWCm",
        "colab_type": "text"
      },
      "source": [
        "Map each element to zero or more others.\n",
        "Then flatten into single large list"
      ]
    },
    {
      "cell_type": "code",
      "metadata": {
        "id": "qA5ayeeZyy4S",
        "colab_type": "code",
        "outputId": "1ac87192-b132-42aa-bf60-36b29b3eca45",
        "colab": {
          "base_uri": "https://localhost:8080/",
          "height": 36
        }
      },
      "source": [
        "numrange = nums.flatMap(lambda x: range(x))\n",
        "numrange.collect()  #collect displays all"
      ],
      "execution_count": 0,
      "outputs": [
        {
          "output_type": "execute_result",
          "data": {
            "text/plain": [
              "[0, 0, 1, 0, 1, 2]"
            ]
          },
          "metadata": {
            "tags": []
          },
          "execution_count": 22
        }
      ]
    },
    {
      "cell_type": "markdown",
      "metadata": {
        "id": "oLA1yJlnzaGE",
        "colab_type": "text"
      },
      "source": [
        "Pass each element through a function\n"
      ]
    },
    {
      "cell_type": "code",
      "metadata": {
        "id": "OmdnYiCxzfHF",
        "colab_type": "code",
        "outputId": "f39b85fc-9dcb-4d43-bb4e-c05fabbe8408",
        "colab": {
          "base_uri": "https://localhost:8080/",
          "height": 36
        }
      },
      "source": [
        "squares = nums.map(lambda x: x*x) #recall nums in input\n",
        "squares.collect()"
      ],
      "execution_count": 0,
      "outputs": [
        {
          "output_type": "execute_result",
          "data": {
            "text/plain": [
              "[1, 4, 9]"
            ]
          },
          "metadata": {
            "tags": []
          },
          "execution_count": 24
        }
      ]
    },
    {
      "cell_type": "markdown",
      "metadata": {
        "id": "1veYC9GOztBe",
        "colab_type": "text"
      },
      "source": [
        "Keep elements passing a predicate\n",
        "(1,4,9 -> only 4 is even)"
      ]
    },
    {
      "cell_type": "code",
      "metadata": {
        "id": "VrT74ZvvzyCV",
        "colab_type": "code",
        "outputId": "2f372144-82cb-4a3d-fc51-5da0f42c84a9",
        "colab": {
          "base_uri": "https://localhost:8080/",
          "height": 36
        }
      },
      "source": [
        "even = squares.filter(lambda x: x % 2 == 0)\n",
        "even.collect()"
      ],
      "execution_count": 0,
      "outputs": [
        {
          "output_type": "execute_result",
          "data": {
            "text/plain": [
              "[4]"
            ]
          },
          "metadata": {
            "tags": []
          },
          "execution_count": 25
        }
      ]
    },
    {
      "cell_type": "markdown",
      "metadata": {
        "id": "lHR-kzeC1MxS",
        "colab_type": "text"
      },
      "source": [
        "Return first n elements (in nums, total was 3. But we only view 2)"
      ]
    },
    {
      "cell_type": "code",
      "metadata": {
        "id": "iz7NSkum1YJL",
        "colab_type": "code",
        "outputId": "7a3f0598-b1c4-46e5-9595-1bec60c7b3fc",
        "colab": {
          "base_uri": "https://localhost:8080/",
          "height": 36
        }
      },
      "source": [
        "nums.take(2)"
      ],
      "execution_count": 0,
      "outputs": [
        {
          "output_type": "execute_result",
          "data": {
            "text/plain": [
              "[1, 2]"
            ]
          },
          "metadata": {
            "tags": []
          },
          "execution_count": 26
        }
      ]
    },
    {
      "cell_type": "markdown",
      "metadata": {
        "id": "VszHHdv-1aFx",
        "colab_type": "text"
      },
      "source": [
        "**count** the number of elements"
      ]
    },
    {
      "cell_type": "code",
      "metadata": {
        "id": "6Brq7YQP1dSl",
        "colab_type": "code",
        "outputId": "30721e37-baf9-41de-a6b1-969c60b8ac56",
        "colab": {
          "base_uri": "https://localhost:8080/",
          "height": 36
        }
      },
      "source": [
        "nums.count()"
      ],
      "execution_count": 0,
      "outputs": [
        {
          "output_type": "execute_result",
          "data": {
            "text/plain": [
              "3"
            ]
          },
          "metadata": {
            "tags": []
          },
          "execution_count": 27
        }
      ]
    },
    {
      "cell_type": "markdown",
      "metadata": {
        "id": "L5ANJ0El1fMd",
        "colab_type": "text"
      },
      "source": [
        "**merge** elements with an another function\n",
        "[sum of elements of nums (1,2,3) = 6"
      ]
    },
    {
      "cell_type": "code",
      "metadata": {
        "id": "PXUXQQL-1nC1",
        "colab_type": "code",
        "outputId": "9c9468b1-15a6-497d-dfd6-188bc974f7ed",
        "colab": {
          "base_uri": "https://localhost:8080/",
          "height": 36
        }
      },
      "source": [
        "nums.reduce(lambda x,y : x+y)\n",
        "\n",
        "#1+2+3"
      ],
      "execution_count": 0,
      "outputs": [
        {
          "output_type": "execute_result",
          "data": {
            "text/plain": [
              "6"
            ]
          },
          "metadata": {
            "tags": []
          },
          "execution_count": 36
        }
      ]
    },
    {
      "cell_type": "markdown",
      "metadata": {
        "id": "FLIy53MT2G3w",
        "colab_type": "text"
      },
      "source": [
        "**`TEXT TRANSFORMATION EXAMPLE`**\n",
        "\n",
        "---\n",
        "\n"
      ]
    },
    {
      "cell_type": "code",
      "metadata": {
        "id": "w8Q1fXl02rdW",
        "colab_type": "code",
        "colab": {}
      },
      "source": [
        "text = sc.textFile(\"shakespeare.txt\")"
      ],
      "execution_count": 0,
      "outputs": []
    },
    {
      "cell_type": "markdown",
      "metadata": {
        "id": "gQ72GD1t2xNU",
        "colab_type": "text"
      },
      "source": [
        "map each element to zero or more others and flatten into single large list"
      ]
    },
    {
      "cell_type": "code",
      "metadata": {
        "id": "uNlXLzNl2wM-",
        "colab_type": "code",
        "outputId": "d094906b-d898-40b6-b44f-38cdb15cf87f",
        "colab": {
          "base_uri": "https://localhost:8080/",
          "height": 36
        }
      },
      "source": [
        "words = text.flatMap(lambda line: line.split())\n",
        "words.take(5)"
      ],
      "execution_count": 0,
      "outputs": [
        {
          "output_type": "execute_result",
          "data": {
            "text/plain": [
              "['The', 'Project', 'Gutenberg', 'EBook', 'of']"
            ]
          },
          "metadata": {
            "tags": []
          },
          "execution_count": 38
        }
      ]
    },
    {
      "cell_type": "markdown",
      "metadata": {
        "id": "19Nf9Z6U4DkD",
        "colab_type": "text"
      },
      "source": [
        "Pass each element through a function"
      ]
    },
    {
      "cell_type": "code",
      "metadata": {
        "id": "hwqYolsh4F-m",
        "colab_type": "code",
        "outputId": "ff4187ab-8768-42c1-b18b-77f9e9a22440",
        "colab": {
          "base_uri": "https://localhost:8080/",
          "height": 36
        }
      },
      "source": [
        "wordWithCount = words.map(lambda word: (word, 1))\n",
        "wordWithCount.take(5)"
      ],
      "execution_count": 0,
      "outputs": [
        {
          "output_type": "execute_result",
          "data": {
            "text/plain": [
              "[('The', 1), ('Project', 1), ('Gutenberg', 1), ('EBook', 1), ('of', 1)]"
            ]
          },
          "metadata": {
            "tags": []
          },
          "execution_count": 39
        }
      ]
    },
    {
      "cell_type": "markdown",
      "metadata": {
        "id": "EfG8Vsyy4ent",
        "colab_type": "text"
      },
      "source": [
        "**`Basic Action (Text)`**"
      ]
    },
    {
      "cell_type": "markdown",
      "metadata": {
        "id": "rg7TyMcB4iv5",
        "colab_type": "text"
      },
      "source": [
        "Count how many words there are (after split was done)"
      ]
    },
    {
      "cell_type": "code",
      "metadata": {
        "id": "HlpQtANx4vkV",
        "colab_type": "code",
        "outputId": "eccf7ec5-1b35-459d-83ac-f44a50920998",
        "colab": {
          "base_uri": "https://localhost:8080/",
          "height": 174
        }
      },
      "source": [
        "words.count()"
      ],
      "execution_count": 0,
      "outputs": [
        {
          "output_type": "error",
          "ename": "NameError",
          "evalue": "ignored",
          "traceback": [
            "\u001b[0;31m---------------------------------------------------------------------------\u001b[0m",
            "\u001b[0;31mNameError\u001b[0m                                 Traceback (most recent call last)",
            "\u001b[0;32m<ipython-input-42-cc63e6415f06>\u001b[0m in \u001b[0;36m<module>\u001b[0;34m()\u001b[0m\n\u001b[0;32m----> 1\u001b[0;31m \u001b[0mwordsWithCount\u001b[0m\u001b[0;34m.\u001b[0m\u001b[0mcount\u001b[0m\u001b[0;34m(\u001b[0m\u001b[0;34m)\u001b[0m\u001b[0;34m\u001b[0m\u001b[0;34m\u001b[0m\u001b[0m\n\u001b[0m",
            "\u001b[0;31mNameError\u001b[0m: name 'wordsWithCount' is not defined"
          ]
        }
      ]
    },
    {
      "cell_type": "markdown",
      "metadata": {
        "id": "U_2xuHb75IUG",
        "colab_type": "text"
      },
      "source": [
        "**`RDD Operations`**"
      ]
    },
    {
      "cell_type": "markdown",
      "metadata": {
        "id": "xaLS9bjr5Oes",
        "colab_type": "text"
      },
      "source": [
        "Read in a text file"
      ]
    },
    {
      "cell_type": "code",
      "metadata": {
        "id": "Ce16DYo65W46",
        "colab_type": "code",
        "colab": {}
      },
      "source": [
        "mydata = sc.textFile(\"shakespeare.txt\")"
      ],
      "execution_count": 0,
      "outputs": []
    },
    {
      "cell_type": "markdown",
      "metadata": {
        "id": "in_A7q1q5dex",
        "colab_type": "text"
      },
      "source": [
        "Convert text to UPPERCASE"
      ]
    },
    {
      "cell_type": "code",
      "metadata": {
        "id": "3kK-OpGL5gBG",
        "colab_type": "code",
        "outputId": "6681aaff-cbdd-4022-b945-8f072f362158",
        "colab": {
          "base_uri": "https://localhost:8080/",
          "height": 110
        }
      },
      "source": [
        "mydata_uc = mydata.map(lambda line: line.upper())\n",
        "mydata_uc.take (5)"
      ],
      "execution_count": 0,
      "outputs": [
        {
          "output_type": "execute_result",
          "data": {
            "text/plain": [
              "['THE PROJECT GUTENBERG EBOOK OF THE COMPLETE WORKS OF WILLIAM SHAKESPEARE, BY',\n",
              " 'WILLIAM SHAKESPEARE',\n",
              " '',\n",
              " 'THIS EBOOK IS FOR THE USE OF ANYONE ANYWHERE AT NO COST AND WITH',\n",
              " 'ALMOST NO RESTRICTIONS WHATSOEVER.  YOU MAY COPY IT, GIVE IT AWAY OR']"
            ]
          },
          "metadata": {
            "tags": []
          },
          "execution_count": 44
        }
      ]
    },
    {
      "cell_type": "markdown",
      "metadata": {
        "id": "SwrdwB1_5qwl",
        "colab_type": "text"
      },
      "source": [
        "**Filter** the lines that start with 'l'"
      ]
    },
    {
      "cell_type": "code",
      "metadata": {
        "id": "71SUfG305xOs",
        "colab_type": "code",
        "outputId": "46158a86-fb6f-4824-c258-717e49b765eb",
        "colab": {
          "base_uri": "https://localhost:8080/",
          "height": 36
        }
      },
      "source": [
        "mydata_filt = mydata_uc.filter(lambda line: line.startswith('l'))\n",
        "mydata_filt.count()\n",
        "\n",
        "#none since all are in UPPERCASE (no lowercase)"
      ],
      "execution_count": 0,
      "outputs": [
        {
          "output_type": "execute_result",
          "data": {
            "text/plain": [
              "0"
            ]
          },
          "metadata": {
            "tags": []
          },
          "execution_count": 52
        }
      ]
    },
    {
      "cell_type": "markdown",
      "metadata": {
        "id": "tYyUCiUL6OIi",
        "colab_type": "text"
      },
      "source": [
        "You can pipe Spark operations using the **dot notation**\n",
        "\n",
        "**'\\' stands for non breaking new line**"
      ]
    },
    {
      "cell_type": "code",
      "metadata": {
        "id": "JfX79jTs6sU6",
        "colab_type": "code",
        "outputId": "ccd67cea-abff-42f5-983b-dd322d55977f",
        "colab": {
          "base_uri": "https://localhost:8080/",
          "height": 110
        }
      },
      "source": [
        "text = sc.textFile(\"full_text.txt\")\\\n",
        ".map(lambda line : line.split(\"\\t\"))\\ #tab delimited file\n",
        ".map(lambda fields: (fields[0], fields[1])) #only take first 2 columns\n",
        "\n",
        "text.take(5)"
      ],
      "execution_count": 0,
      "outputs": [
        {
          "output_type": "execute_result",
          "data": {
            "text/plain": [
              "[('USER_79321756', '2010-03-03T04:15:26'),\n",
              " ('USER_79321756', '2010-03-03T04:55:32'),\n",
              " ('USER_79321756', '2010-03-03T05:13:34'),\n",
              " ('USER_79321756', '2010-03-03T05:28:02'),\n",
              " ('USER_79321756', '2010-03-03T05:56:13')]"
            ]
          },
          "metadata": {
            "tags": []
          },
          "execution_count": 57
        }
      ]
    },
    {
      "cell_type": "markdown",
      "metadata": {
        "id": "pu_C5lKs6rRI",
        "colab_type": "text"
      },
      "source": [
        "Pair RDDs adding a key"
      ]
    },
    {
      "cell_type": "code",
      "metadata": {
        "id": "UeVjUM_47Yur",
        "colab_type": "code",
        "outputId": "0534c3b7-552f-484a-9851-353486360274",
        "colab": {
          "base_uri": "https://localhost:8080/",
          "height": 223
        }
      },
      "source": [
        "text = sc.textFile(\"full_text.txt\")\\\n",
        ".keyBy(lambda line: line.split(\"\\t\")[0])\n",
        "\n",
        "text.take(5)\n",
        "\n",
        "#Make key value pairs using first attribute details"
      ],
      "execution_count": 0,
      "outputs": [
        {
          "output_type": "execute_result",
          "data": {
            "text/plain": [
              "[('USER_79321756',\n",
              "  'USER_79321756\\t2010-03-03T04:15:26\\tÜT: 47.528139,-122.197916\\t47.528139\\t-122.197916\\tRT @USER_2ff4faca: IF SHE DO IT 1 MORE TIME......IMA KNOCK HER DAMN KOOFIE OFF.....ON MY MOMMA&gt;&gt;haha. #cutthatout'),\n",
              " ('USER_79321756',\n",
              "  'USER_79321756\\t2010-03-03T04:55:32\\tÜT: 47.528139,-122.197916\\t47.528139\\t-122.197916\\t@USER_77a4822d @USER_2ff4faca okay:) lol. Saying ok to both of yall about to different things!:*'),\n",
              " ('USER_79321756',\n",
              "  'USER_79321756\\t2010-03-03T05:13:34\\tÜT: 47.528139,-122.197916\\t47.528139\\t-122.197916\\tRT @USER_5d4d777a: YOURE A FOR GETTING IN THE MIDDLE OF THIS @USER_ab059bdc WHO THE FUCK ARE YOU ? A FUCKING NOBODY !!!!&gt;&gt;Lol! Dayum! Aye!'),\n",
              " ('USER_79321756',\n",
              "  'USER_79321756\\t2010-03-03T05:28:02\\tÜT: 47.528139,-122.197916\\t47.528139\\t-122.197916\\t@USER_77a4822d yea ok..well answer that cheap as Sweden phone you came up on when I call.'),\n",
              " ('USER_79321756',\n",
              "  'USER_79321756\\t2010-03-03T05:56:13\\tÜT: 47.528139,-122.197916\\t47.528139\\t-122.197916\\tA sprite can disappear in her mouth - lil kim hmmmmm the can not the bottle right?')]"
            ]
          },
          "metadata": {
            "tags": []
          },
          "execution_count": 58
        }
      ]
    },
    {
      "cell_type": "markdown",
      "metadata": {
        "id": "Wk0ELD6177OI",
        "colab_type": "text"
      },
      "source": [
        "Pairs with Complex Values"
      ]
    },
    {
      "cell_type": "code",
      "metadata": {
        "id": "1SffJI7V79ah",
        "colab_type": "code",
        "outputId": "9de2da76-0360-4570-e35c-8a8a035e2c8e",
        "colab": {
          "base_uri": "https://localhost:8080/",
          "height": 110
        }
      },
      "source": [
        "text = sc.textFile(\"full_text.txt\")\\\n",
        ".map(lambda line : line.split(\"\\t\"))\\\n",
        ".map(lambda fields: (fields[0],(fields[1],fields[2])))\n",
        "\n",
        "text.take(5)\n",
        "\n",
        "#First attribute as key and second and third attribute as values"
      ],
      "execution_count": 0,
      "outputs": [
        {
          "output_type": "execute_result",
          "data": {
            "text/plain": [
              "[('USER_79321756', ('2010-03-03T04:15:26', 'ÜT: 47.528139,-122.197916')),\n",
              " ('USER_79321756', ('2010-03-03T04:55:32', 'ÜT: 47.528139,-122.197916')),\n",
              " ('USER_79321756', ('2010-03-03T05:13:34', 'ÜT: 47.528139,-122.197916')),\n",
              " ('USER_79321756', ('2010-03-03T05:28:02', 'ÜT: 47.528139,-122.197916')),\n",
              " ('USER_79321756', ('2010-03-03T05:56:13', 'ÜT: 47.528139,-122.197916'))]"
            ]
          },
          "metadata": {
            "tags": []
          },
          "execution_count": 59
        }
      ]
    },
    {
      "cell_type": "markdown",
      "metadata": {
        "id": "wymxv31b8bW-",
        "colab_type": "text"
      },
      "source": [
        "**`WordCount Example`**\n",
        "\n",
        "---\n",
        "\n"
      ]
    },
    {
      "cell_type": "code",
      "metadata": {
        "id": "ausfO_p48lea",
        "colab_type": "code",
        "outputId": "981b4907-a51c-4716-f798-9e07493e02df",
        "colab": {
          "base_uri": "https://localhost:8080/",
          "height": 203
        }
      },
      "source": [
        "counts = sc.textFile(\"shakespeare.txt\")\\\n",
        ".flatMap(lambda line: line.split())\\\n",
        ".map(lambda word : (word,1))\\\n",
        ".reduceByKey(lambda v1,v2 : v1+v2)\n",
        "\n",
        "counts.take(10)"
      ],
      "execution_count": 0,
      "outputs": [
        {
          "output_type": "execute_result",
          "data": {
            "text/plain": [
              "[('The', 3977),\n",
              " ('Project', 85),\n",
              " ('EBook', 2),\n",
              " ('of', 15649),\n",
              " ('Shakespeare', 45),\n",
              " ('is', 7874),\n",
              " ('use', 266),\n",
              " ('anyone', 4),\n",
              " ('anywhere', 4),\n",
              " ('at', 2227)]"
            ]
          },
          "metadata": {
            "tags": []
          },
          "execution_count": 62
        }
      ]
    },
    {
      "cell_type": "markdown",
      "metadata": {
        "id": "FsVQ4FUIs-Yi",
        "colab_type": "text"
      },
      "source": [
        "# Assignment 3"
      ]
    },
    {
      "cell_type": "code",
      "metadata": {
        "colab_type": "code",
        "id": "J9LdPh09tp7A",
        "outputId": "c6472312-e574-478b-aeca-9be5b492f56f",
        "colab": {
          "resources": {
            "http://localhost:8080/nbextensions/google.colab/files.js": {
              "data": "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",
              "ok": true,
              "headers": [
                [
                  "content-type",
                  "application/javascript"
                ]
              ],
              "status": 200,
              "status_text": "OK"
            }
          },
          "base_uri": "https://localhost:8080/",
          "height": 57
        }
      },
      "source": [
        "#Upload Files for the 3 questions     \n",
        "#1 -> number_list.txt\n",
        "#2 -> shakespeare.txt\n",
        "#3 -> fulltext.txt\n",
        "\n",
        "#Upload Files     \n",
        "from google.colab import files\n",
        "files.upload()\n"
      ],
      "execution_count": 0,
      "outputs": [
        {
          "output_type": "display_data",
          "data": {
            "text/html": [
              "\n",
              "     <input type=\"file\" id=\"files-3e18a139-19c7-4c94-b635-47ff146355f1\" name=\"files[]\" multiple disabled />\n",
              "     <output id=\"result-3e18a139-19c7-4c94-b635-47ff146355f1\">\n",
              "      Upload widget is only available when the cell has been executed in the\n",
              "      current browser session. Please rerun this cell to enable.\n",
              "      </output>\n",
              "      <script src=\"/nbextensions/google.colab/files.js\"></script> "
            ],
            "text/plain": [
              "<IPython.core.display.HTML object>"
            ]
          },
          "metadata": {
            "tags": []
          }
        },
        {
          "output_type": "execute_result",
          "data": {
            "text/plain": [
              "{}"
            ]
          },
          "metadata": {
            "tags": []
          },
          "execution_count": 1
        }
      ]
    },
    {
      "cell_type": "markdown",
      "metadata": {
        "id": "70xPQ4fZtFYb",
        "colab_type": "text"
      },
      "source": [
        "1. ODD/EVEN NUMBER \n",
        "(Hint: Note that you are reading the file as text and need to convert the numbers to `int()`)\n",
        "\n",
        "Input: number_list.txt (a list of 1000 integers)\n",
        "\n",
        "\n",
        "\n",
        "Output: **Count the number of `odd` numbers and `even` numbers in the file**"
      ]
    },
    {
      "cell_type": "code",
      "metadata": {
        "id": "dCP0mfiny0-L",
        "colab_type": "code",
        "outputId": "e00f1a33-e8e6-4142-8cdf-83c8879896b8",
        "colab": {
          "base_uri": "https://localhost:8080/",
          "height": 54
        }
      },
      "source": [
        "num_list = sc.textFile(\"number_list.txt\").map(lambda x: int(x))\n",
        "\n",
        "num_list_even = num_list.filter(lambda x: x % 2 == 0)\n",
        "num_list_odd = num_list.filter(lambda x: x % 2 != 0)\n",
        "\n",
        "print (\"Even number count:\", num_list_even.count())\n",
        "print (\"Odd number count:\", num_list_odd.count())"
      ],
      "execution_count": 0,
      "outputs": [
        {
          "output_type": "stream",
          "text": [
            "Even number count: 521\n",
            "Odd number count: 479\n"
          ],
          "name": "stdout"
        }
      ]
    },
    {
      "cell_type": "markdown",
      "metadata": {
        "id": "s9iPi_tTy9Ao",
        "colab_type": "text"
      },
      "source": [
        "2. Top K and bottom K words \n",
        "(Hint: Search and use takeOrdered() method)\n",
        "\n",
        "---\n",
        "\n",
        "Input: shakespeare.txt \n",
        "\n",
        "\n",
        "Output: **10 words with the `highest count` and 10 words with `lowest count`**"
      ]
    },
    {
      "cell_type": "code",
      "metadata": {
        "id": "gxF590NCzGGU",
        "colab_type": "code",
        "outputId": "aefacb84-fae0-4026-ae6c-c07018b3f2eb",
        "colab": {
          "base_uri": "https://localhost:8080/",
          "height": 203
        }
      },
      "source": [
        "text = sc.textFile(\"shakespeare.txt\")\n",
        "\n",
        "words = text.flatMap(lambda line: line.split())\n",
        "count = words.map(lambda word: (word, 1)).reduceByKey(lambda v1,v2: v1+v2)\n",
        "\n",
        "orderDesc = count.sortBy(lambda p:p[1],ascending=False)\n",
        "orderAsce = count.sortBy(lambda p:p[1],ascending=True)\n",
        "\n",
        "#orderAsce.take(10)\n",
        "orderDesc.take(10)"
      ],
      "execution_count": 0,
      "outputs": [
        {
          "output_type": "execute_result",
          "data": {
            "text/plain": [
              "[('the', 23407),\n",
              " ('I', 19540),\n",
              " ('and', 18358),\n",
              " ('to', 15682),\n",
              " ('of', 15649),\n",
              " ('a', 12586),\n",
              " ('my', 10825),\n",
              " ('in', 9633),\n",
              " ('you', 9129),\n",
              " ('is', 7874)]"
            ]
          },
          "metadata": {
            "tags": []
          },
          "execution_count": 14
        }
      ]
    },
    {
      "cell_type": "markdown",
      "metadata": {
        "id": "tnTfAEz0zGgk",
        "colab_type": "text"
      },
      "source": [
        "3. Group and Count\n",
        "\n",
        "---\n",
        "\n",
        "Input: fulltext_txt\n",
        "\n",
        "Output: **`Count` the number of tweets for each user_id and `save` the results in a text file**. "
      ]
    },
    {
      "cell_type": "markdown",
      "metadata": {
        "id": "-0dlQkUA23Ls",
        "colab_type": "text"
      },
      "source": [
        "Sample Output \n",
        "\n",
        "[0] User ID\n",
        "USER_79321756\t\n",
        "\n",
        "[1] Timestamp\n",
        "2010-03-03T16:57:24\t\n",
        "\n",
        "[2] Location\n",
        "ÃœT: 47.528139,-122.197916\t\n",
        "\n",
        "[3] Longitude\n",
        "47.528139\t\n",
        "\n",
        "[4] Latitude\n",
        "-122.197916\t\n",
        "\n",
        "[5] Message\n",
        "Alright twitters tryna take me over!"
      ]
    },
    {
      "cell_type": "code",
      "metadata": {
        "id": "-Q-m7aOyzQbY",
        "colab_type": "code",
        "outputId": "0b4c73ab-f760-4205-af4f-b4061aea5efc",
        "colab": {
          "base_uri": "https://localhost:8080/",
          "height": 203
        }
      },
      "source": [
        "text = sc.textFile(\"full_text.txt\").map(lambda line: line.split(\"\\t\"))\n",
        "count = text.map(lambda fields: (fields[0],1)).reduceByKey(lambda v1,v2:v1+v2)\n",
        "\n",
        "count.take(10)\n",
        "\n",
        "#count.saveAsTextFile(\"q3.txt\")"
      ],
      "execution_count": 0,
      "outputs": [
        {
          "output_type": "execute_result",
          "data": {
            "text/plain": [
              "[('USER_79321756', 83),\n",
              " ('USER_6197f95d', 26),\n",
              " ('USER_2929b0da', 24),\n",
              " ('USER_f730f97b', 23),\n",
              " ('USER_d12c6a27', 27),\n",
              " ('USER_064b120e', 36),\n",
              " ('USER_942c68df', 57),\n",
              " ('USER_2e5f8774', 56),\n",
              " ('USER_47e93993', 33),\n",
              " ('USER_cd29704a', 47)]"
            ]
          },
          "metadata": {
            "tags": []
          },
          "execution_count": 16
        }
      ]
    }
  ]
}